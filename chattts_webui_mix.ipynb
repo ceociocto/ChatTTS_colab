{
  "nbformat": 4,
  "nbformat_minor": 0,
  "metadata": {
    "colab": {
      "provenance": [],
      "gpuType": "T4"
    },
    "kernelspec": {
      "name": "python3",
      "display_name": "Python 3"
    },
    "language_info": {
      "name": "python"
    },
    "accelerator": "GPU"
  },
  "cells": [
    {
      "cell_type": "markdown",
      "source": [
        "> 🌟 如果你觉得 ChatTTS 和 ChatTTS_colab 项目对你有帮助，请访问以下链接给它们点个星星吧！🌟\n",
        "\n",
        "- [ChatTTS 项目](https://github.com/2noise/ChatTTS)\n",
        "\n",
        "- [ChatTTS_colab 项目](https://github.com/6drf21e/ChatTTS_colab)\n",
        "\n",
        "感谢你的支持！\n",
        "\n",
        "# 运行方法\n",
        "\n",
        "- 点击菜单栏的--代码执行程序--全部运行即可\n",
        "- 执行后在下方的日志中找到类似\n",
        "\n",
        "  Running on public URL: https://**************.gradio.live  <-这个就是可以访问的公网地址\n",
        "\n",
        "安装包的时候提示要重启 请点**\"否\"**"
      ],
      "metadata": {
        "id": "Xo3k5XsTzWK6"
      }
    },
    {
      "cell_type": "code",
      "source": [
        "!git clone -q https://github.com/6drf21e/ChatTTS_colab\n",
        "%cd ChatTTS_colab\n",
        "!git clone -q https://github.com/2noise/ChatTTS\n",
        "%cd ChatTTS\n",
        "!git checkout -q e6412b1\n",
        "%cd ..\n",
        "!mv ChatTTS abc\n",
        "!mv abc/* /content/ChatTTS_colab/\n",
        "!pip install -q omegaconf vocos vector_quantize_pytorch gradio cn2an pypinyin openai jieba WeTextProcessing python-dotenv\n",
        "# 启动 Gradio 有公网地址\n",
        "!python webui_mix.py --share\n"
      ],
      "metadata": {
        "id": "hNDl-5muR77-",
        "outputId": "4e79514a-4515-4cb5-c8bf-4e9aed312867",
        "colab": {
          "base_uri": "https://localhost:8080/"
        }
      },
      "execution_count": 4,
      "outputs": [
        {
          "output_type": "stream",
          "name": "stdout",
          "text": [
            "/content/ChatTTS_colab/ChatTTS_colab/ChatTTS_colab/ChatTTS_colab\n",
            "/content/ChatTTS_colab/ChatTTS_colab/ChatTTS_colab/ChatTTS_colab/ChatTTS\n",
            "/content/ChatTTS_colab/ChatTTS_colab/ChatTTS_colab/ChatTTS_colab\n",
            "mv: cannot move 'abc/ChatTTS' to '/content/ChatTTS_colab/ChatTTS': Directory not empty\n",
            "mv: cannot move 'abc/docs' to '/content/ChatTTS_colab/docs': Directory not empty\n",
            "mv: cannot move 'abc/examples' to '/content/ChatTTS_colab/examples': Directory not empty\n",
            "mv: cannot move 'abc/tools' to '/content/ChatTTS_colab/tools': Directory not empty\n",
            "Traceback (most recent call last):\n",
            "  File \"/content/ChatTTS_colab/ChatTTS_colab/ChatTTS_colab/ChatTTS_colab/webui_mix.py\", line 16, in <module>\n",
            "    from tts_model import load_chat_tts_model, clear_cuda_cache, generate_audio_for_seed\n",
            "  File \"/content/ChatTTS_colab/ChatTTS_colab/ChatTTS_colab/ChatTTS_colab/tts_model.py\", line 11, in <module>\n",
            "    import ChatTTS\n",
            "ModuleNotFoundError: No module named 'ChatTTS'\n"
          ]
        }
      ]
    },
    {
      "cell_type": "code",
      "source": [
        "!git clone -q https://github.com/6drf21e/ChatTTS_colab\n"
      ],
      "metadata": {
        "id": "oNaGOMl6AETt"
      },
      "execution_count": 6,
      "outputs": []
    },
    {
      "cell_type": "code",
      "source": [
        "%cd ChatTTS_colab"
      ],
      "metadata": {
        "id": "yYsHb4nHAIvT",
        "outputId": "1d5d0570-fe74-4622-8fbf-c2066f7fcf6c",
        "colab": {
          "base_uri": "https://localhost:8080/"
        }
      },
      "execution_count": 7,
      "outputs": [
        {
          "output_type": "stream",
          "name": "stdout",
          "text": [
            "/content/ChatTTS_colab/ChatTTS_colab/ChatTTS_colab/ChatTTS_colab/ChatTTS_colab\n"
          ]
        }
      ]
    },
    {
      "cell_type": "code",
      "source": [
        "!git clone -q https://github.com/2noise/ChatTTS"
      ],
      "metadata": {
        "id": "XoWKfK1gAK-k"
      },
      "execution_count": 8,
      "outputs": []
    },
    {
      "cell_type": "code",
      "source": [
        "%cd ChatTTS\n",
        "!git checkout -q e6412b1\n",
        "%cd ..\n",
        "!mv ChatTTS abc\n",
        "!mv abc/* /content/ChatTTS_colab/"
      ],
      "metadata": {
        "id": "XVyokchVAN1X",
        "outputId": "12f51a1f-943d-4cf7-b4ce-067810c71b60",
        "colab": {
          "base_uri": "https://localhost:8080/"
        }
      },
      "execution_count": 9,
      "outputs": [
        {
          "output_type": "stream",
          "name": "stdout",
          "text": [
            "/content/ChatTTS_colab/ChatTTS_colab/ChatTTS_colab/ChatTTS_colab/ChatTTS_colab/ChatTTS\n",
            "/content/ChatTTS_colab/ChatTTS_colab/ChatTTS_colab/ChatTTS_colab/ChatTTS_colab\n",
            "mv: cannot move 'abc/ChatTTS' to '/content/ChatTTS_colab/ChatTTS': Directory not empty\n",
            "mv: cannot move 'abc/docs' to '/content/ChatTTS_colab/docs': Directory not empty\n",
            "mv: cannot move 'abc/examples' to '/content/ChatTTS_colab/examples': Directory not empty\n",
            "mv: cannot move 'abc/tools' to '/content/ChatTTS_colab/tools': Directory not empty\n"
          ]
        }
      ]
    },
    {
      "cell_type": "code",
      "source": [
        "!cd /\n",
        "!pwd\n"
      ],
      "metadata": {
        "id": "EYPxlcjAAUQO",
        "outputId": "b0bdec10-dbd3-4afd-a6b6-9764d35aed96",
        "colab": {
          "base_uri": "https://localhost:8080/"
        }
      },
      "execution_count": 12,
      "outputs": [
        {
          "output_type": "stream",
          "name": "stdout",
          "text": [
            "/content/ChatTTS_colab/ChatTTS_colab/ChatTTS_colab/ChatTTS_colab/ChatTTS_colab\n"
          ]
        }
      ]
    }
  ]
}